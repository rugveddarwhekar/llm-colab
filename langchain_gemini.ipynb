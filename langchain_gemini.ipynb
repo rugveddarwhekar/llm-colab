{
  "nbformat": 4,
  "nbformat_minor": 0,
  "metadata": {
    "colab": {
      "provenance": [],
      "toc_visible": true,
      "authorship_tag": "ABX9TyNar8RxTQWKNdlMHZwyVGDN",
      "include_colab_link": true
    },
    "kernelspec": {
      "name": "python3",
      "display_name": "Python 3"
    },
    "language_info": {
      "name": "python"
    }
  },
  "cells": [
    {
      "cell_type": "markdown",
      "metadata": {
        "id": "view-in-github",
        "colab_type": "text"
      },
      "source": [
        "<a href=\"https://colab.research.google.com/github/rugveddarwhekar/llm-colab/blob/main/langchain_gemini.ipynb\" target=\"_parent\"><img src=\"https://colab.research.google.com/assets/colab-badge.svg\" alt=\"Open In Colab\"/></a>"
      ]
    },
    {
      "cell_type": "markdown",
      "source": [
        "# Langchain & RAG with Google Gemini"
      ],
      "metadata": {
        "id": "v0Kw8NGDGRT-"
      }
    },
    {
      "cell_type": "markdown",
      "source": [
        "## Basic setup"
      ],
      "metadata": {
        "id": "_IAsXAX0GXnb"
      }
    },
    {
      "cell_type": "code",
      "source": [
        "from google.colab import userdata\n",
        "userdata.get('GEMINI_API_KEY')"
      ],
      "metadata": {
        "id": "mTzxuuiPt8m0"
      },
      "execution_count": null,
      "outputs": []
    },
    {
      "cell_type": "code",
      "source": [
        "!pip install -q --upgrade google-generativeai langchain-google-genai chromadb pypdf\n",
        "!pip install langchain"
      ],
      "metadata": {
        "colab": {
          "base_uri": "https://localhost:8080/"
        },
        "id": "oaNsrh9puBWf",
        "outputId": "b515a9b2-d346-4679-9c95-eb3d5e705b9e"
      },
      "execution_count": 6,
      "outputs": [
        {
          "output_type": "stream",
          "name": "stdout",
          "text": [
            "Collecting langchain\n",
            "  Downloading langchain-0.2.12-py3-none-any.whl.metadata (7.1 kB)\n",
            "Requirement already satisfied: PyYAML>=5.3 in /usr/local/lib/python3.10/dist-packages (from langchain) (6.0.2)\n",
            "Requirement already satisfied: SQLAlchemy<3,>=1.4 in /usr/local/lib/python3.10/dist-packages (from langchain) (2.0.32)\n",
            "Requirement already satisfied: aiohttp<4.0.0,>=3.8.3 in /usr/local/lib/python3.10/dist-packages (from langchain) (3.10.1)\n",
            "Requirement already satisfied: async-timeout<5.0.0,>=4.0.0 in /usr/local/lib/python3.10/dist-packages (from langchain) (4.0.3)\n",
            "Requirement already satisfied: langchain-core<0.3.0,>=0.2.27 in /usr/local/lib/python3.10/dist-packages (from langchain) (0.2.29)\n",
            "Collecting langchain-text-splitters<0.3.0,>=0.2.0 (from langchain)\n",
            "  Downloading langchain_text_splitters-0.2.2-py3-none-any.whl.metadata (2.1 kB)\n",
            "Requirement already satisfied: langsmith<0.2.0,>=0.1.17 in /usr/local/lib/python3.10/dist-packages (from langchain) (0.1.99)\n",
            "Requirement already satisfied: numpy<2,>=1 in /usr/local/lib/python3.10/dist-packages (from langchain) (1.26.4)\n",
            "Requirement already satisfied: pydantic<3,>=1 in /usr/local/lib/python3.10/dist-packages (from langchain) (2.8.2)\n",
            "Requirement already satisfied: requests<3,>=2 in /usr/local/lib/python3.10/dist-packages (from langchain) (2.32.3)\n",
            "Requirement already satisfied: tenacity!=8.4.0,<9.0.0,>=8.1.0 in /usr/local/lib/python3.10/dist-packages (from langchain) (8.5.0)\n",
            "Requirement already satisfied: aiohappyeyeballs>=2.3.0 in /usr/local/lib/python3.10/dist-packages (from aiohttp<4.0.0,>=3.8.3->langchain) (2.3.4)\n",
            "Requirement already satisfied: aiosignal>=1.1.2 in /usr/local/lib/python3.10/dist-packages (from aiohttp<4.0.0,>=3.8.3->langchain) (1.3.1)\n",
            "Requirement already satisfied: attrs>=17.3.0 in /usr/local/lib/python3.10/dist-packages (from aiohttp<4.0.0,>=3.8.3->langchain) (24.2.0)\n",
            "Requirement already satisfied: frozenlist>=1.1.1 in /usr/local/lib/python3.10/dist-packages (from aiohttp<4.0.0,>=3.8.3->langchain) (1.4.1)\n",
            "Requirement already satisfied: multidict<7.0,>=4.5 in /usr/local/lib/python3.10/dist-packages (from aiohttp<4.0.0,>=3.8.3->langchain) (6.0.5)\n",
            "Requirement already satisfied: yarl<2.0,>=1.0 in /usr/local/lib/python3.10/dist-packages (from aiohttp<4.0.0,>=3.8.3->langchain) (1.9.4)\n",
            "Requirement already satisfied: jsonpatch<2.0,>=1.33 in /usr/local/lib/python3.10/dist-packages (from langchain-core<0.3.0,>=0.2.27->langchain) (1.33)\n",
            "Requirement already satisfied: packaging<25,>=23.2 in /usr/local/lib/python3.10/dist-packages (from langchain-core<0.3.0,>=0.2.27->langchain) (24.1)\n",
            "Requirement already satisfied: typing-extensions>=4.7 in /usr/local/lib/python3.10/dist-packages (from langchain-core<0.3.0,>=0.2.27->langchain) (4.12.2)\n",
            "Requirement already satisfied: orjson<4.0.0,>=3.9.14 in /usr/local/lib/python3.10/dist-packages (from langsmith<0.2.0,>=0.1.17->langchain) (3.10.7)\n",
            "Requirement already satisfied: annotated-types>=0.4.0 in /usr/local/lib/python3.10/dist-packages (from pydantic<3,>=1->langchain) (0.7.0)\n",
            "Requirement already satisfied: pydantic-core==2.20.1 in /usr/local/lib/python3.10/dist-packages (from pydantic<3,>=1->langchain) (2.20.1)\n",
            "Requirement already satisfied: charset-normalizer<4,>=2 in /usr/local/lib/python3.10/dist-packages (from requests<3,>=2->langchain) (3.3.2)\n",
            "Requirement already satisfied: idna<4,>=2.5 in /usr/local/lib/python3.10/dist-packages (from requests<3,>=2->langchain) (3.7)\n",
            "Requirement already satisfied: urllib3<3,>=1.21.1 in /usr/local/lib/python3.10/dist-packages (from requests<3,>=2->langchain) (2.0.7)\n",
            "Requirement already satisfied: certifi>=2017.4.17 in /usr/local/lib/python3.10/dist-packages (from requests<3,>=2->langchain) (2024.7.4)\n",
            "Requirement already satisfied: greenlet!=0.4.17 in /usr/local/lib/python3.10/dist-packages (from SQLAlchemy<3,>=1.4->langchain) (3.0.3)\n",
            "Requirement already satisfied: jsonpointer>=1.9 in /usr/local/lib/python3.10/dist-packages (from jsonpatch<2.0,>=1.33->langchain-core<0.3.0,>=0.2.27->langchain) (3.0.0)\n",
            "Downloading langchain-0.2.12-py3-none-any.whl (990 kB)\n",
            "\u001b[2K   \u001b[90m━━━━━━━━━━━━━━━━━━━━━━━━━━━━━━━━━━━━━━━━\u001b[0m \u001b[32m990.6/990.6 kB\u001b[0m \u001b[31m16.0 MB/s\u001b[0m eta \u001b[36m0:00:00\u001b[0m\n",
            "\u001b[?25hDownloading langchain_text_splitters-0.2.2-py3-none-any.whl (25 kB)\n",
            "Installing collected packages: langchain-text-splitters, langchain\n",
            "Successfully installed langchain-0.2.12 langchain-text-splitters-0.2.2\n"
          ]
        }
      ]
    },
    {
      "cell_type": "code",
      "source": [
        "from IPython.display import display\n",
        "from IPython.display import Markdown\n",
        "import textwrap\n",
        "\n",
        "def to_markdown(text):\n",
        "  text = text.replace('•', '*')\n",
        "  return Markdown(textwrap.indent(text, '> ', predicate=lambda _: True))"
      ],
      "metadata": {
        "id": "0JEA2pLsujKz"
      },
      "execution_count": 36,
      "outputs": []
    },
    {
      "cell_type": "markdown",
      "source": [
        "## Text Generation without Langchain"
      ],
      "metadata": {
        "id": "qT0p1R5FwC6V"
      }
    },
    {
      "cell_type": "code",
      "source": [
        "import google.generativeai as genai\n",
        "from google.colab import userdata\n",
        "import os\n",
        "GOOGLE_API_KEY = userdata.get(\"GEMINI_API_KEY\")\n",
        "genai.configure(api_key=GOOGLE_API_KEY)"
      ],
      "metadata": {
        "id": "BQJJ6-C9vg94"
      },
      "execution_count": 11,
      "outputs": []
    },
    {
      "cell_type": "code",
      "source": [
        "model = genai.GenerativeModel(model_name = \"gemini-1.5-flash\")\n",
        "model"
      ],
      "metadata": {
        "colab": {
          "base_uri": "https://localhost:8080/"
        },
        "id": "amAaEc6yv-Io",
        "outputId": "a842de93-969f-45f3-ca3b-ab86a19df227"
      },
      "execution_count": null,
      "outputs": [
        {
          "output_type": "execute_result",
          "data": {
            "text/plain": [
              "genai.GenerativeModel(\n",
              "    model_name='models/gemini-1.5-flash',\n",
              "    generation_config={},\n",
              "    safety_settings={},\n",
              "    tools=None,\n",
              "    system_instruction=None,\n",
              "    cached_content=None\n",
              ")"
            ]
          },
          "metadata": {},
          "execution_count": 13
        }
      ]
    },
    {
      "cell_type": "code",
      "source": [
        "response = model.generate_content('Why are LLMs useful?')\n",
        "to_markdown(response.text)"
      ],
      "metadata": {
        "colab": {
          "base_uri": "https://localhost:8080/",
          "height": 675
        },
        "id": "hn0hh9T9wNgm",
        "outputId": "1efd71d2-ca4e-4ed0-b036-6f11fa80acdb"
      },
      "execution_count": null,
      "outputs": [
        {
          "output_type": "execute_result",
          "data": {
            "text/plain": [
              "<IPython.core.display.Markdown object>"
            ],
            "text/markdown": "> LLMs (Large Language Models) are useful for a variety of reasons, ranging from assisting with daily tasks to driving cutting-edge research. Here are some key areas where they excel:\n> \n> **1. Text Generation and Manipulation:**\n> \n> * **Content Creation:** Generating creative writing, articles, social media posts, marketing materials, and more.\n> * **Translation:** Translating text between languages, improving accuracy and fluency.\n> * **Summarization:** Condensing large amounts of text into concise summaries.\n> * **Paraphrasing:** Rewording text to improve clarity or avoid plagiarism.\n> * **Code Generation:** Creating code in various programming languages based on natural language prompts.\n> \n> **2. Information Retrieval and Understanding:**\n> \n> * **Answering Questions:** Providing informative answers to a wide range of questions based on vast training data.\n> * **Text Classification:** Categorizing text into different topics or sentiments.\n> * **Sentiment Analysis:** Determining the emotional tone of text, identifying positive, negative, or neutral sentiment.\n> * **Knowledge Extraction:** Identifying and extracting key information from text.\n> \n> **3. Conversational AI:**\n> \n> * **Chatbots:** Creating interactive and engaging conversational agents for customer service, personal assistants, and entertainment.\n> * **Dialogue Systems:** Building natural and human-like dialogue systems for various applications.\n> * **Virtual Assistants:** Providing personalized assistance with tasks, scheduling, and information retrieval.\n> \n> **4. Research and Development:**\n> \n> * **Drug Discovery:** Identifying potential drug candidates and analyzing biological data.\n> * **Material Science:** Simulating and predicting the properties of new materials.\n> * **Language Learning:** Enhancing language learning experiences and providing personalized feedback.\n> \n> **5. Other Applications:**\n> \n> * **Education:** Providing personalized learning experiences, creating interactive quizzes, and generating educational content.\n> * **Entertainment:** Generating stories, poems, and creative content for games, movies, and other forms of entertainment.\n> * **Accessibility:** Helping people with disabilities access information and communicate effectively.\n> \n> **Benefits of LLMs:**\n> \n> * **Efficiency:** Automate tasks that are time-consuming for humans.\n> * **Scale:** Process large amounts of data and generate responses at scale.\n> * **Personalization:** Provide customized experiences and content based on individual needs.\n> * **Innovation:** Enable new possibilities in various fields and drive technological advancements.\n> \n> However, it is important to be aware of the limitations of LLMs, including potential biases, ethical concerns, and the need for responsible development and deployment. \n"
          },
          "metadata": {},
          "execution_count": 14
        }
      ]
    },
    {
      "cell_type": "markdown",
      "source": [
        "## Using Langchain to access Gemini"
      ],
      "metadata": {
        "id": "cs9OJ_vtylPY"
      }
    },
    {
      "cell_type": "markdown",
      "source": [
        "### Text"
      ],
      "metadata": {
        "id": "yYj3C6smGHb8"
      }
    },
    {
      "cell_type": "code",
      "source": [
        "from langchain_google_genai import ChatGoogleGenerativeAI\n",
        "\n",
        "llm = ChatGoogleGenerativeAI(model = \"gemini-1.5-flash\", google_api_key = GOOGLE_API_KEY)"
      ],
      "metadata": {
        "id": "gZIuUAQJysng"
      },
      "execution_count": null,
      "outputs": []
    },
    {
      "cell_type": "code",
      "source": [
        "result = llm.invoke(\"Why are LLMs useful?\")\n",
        "to_markdown(result.content)"
      ],
      "metadata": {
        "colab": {
          "base_uri": "https://localhost:8080/",
          "height": 673
        },
        "id": "nXBOIwLgy305",
        "outputId": "62937dfa-dd54-4a39-ddb0-d810aba4b962"
      },
      "execution_count": null,
      "outputs": [
        {
          "output_type": "execute_result",
          "data": {
            "text/plain": [
              "<IPython.core.display.Markdown object>"
            ],
            "text/markdown": "> Large Language Models (LLMs) are useful for a wide range of applications because they possess several unique capabilities:\n> \n> **1. Natural Language Understanding and Generation:**\n> \n> * **Text Summarization:** LLMs can condense large amounts of text into concise summaries, making it easier to grasp key information.\n> * **Translation:** They can translate text between languages with high accuracy, breaking down language barriers.\n> * **Question Answering:** LLMs can understand complex questions and provide accurate and relevant answers from vast amounts of information.\n> * **Dialogue Generation:** They can engage in natural-sounding conversations, making them ideal for chatbots and virtual assistants.\n> * **Content Creation:** LLMs can generate creative content like poems, scripts, and articles, enhancing human creativity.\n> \n> **2. Data Analysis and Insights:**\n> \n> * **Sentiment Analysis:** LLMs can analyze text to understand the sentiment (positive, negative, neutral) expressed, helping businesses understand customer feedback.\n> * **Topic Modeling:** They can identify key themes and topics within large datasets, uncovering hidden patterns and insights.\n> * **Data Extraction:** LLMs can extract specific information from unstructured text, automating data collection and analysis.\n> \n> **3. Automation and Efficiency:**\n> \n> * **Code Generation:** LLMs can generate code in various programming languages, streamlining development processes.\n> * **Document Summarization and Analysis:** They can automate the process of summarizing and analyzing large volumes of documents, saving time and effort.\n> * **Customer Service Automation:** LLMs can power chatbots that handle basic customer inquiries, freeing up human agents for more complex issues.\n> \n> **4. Personalized Experiences:**\n> \n> * **Recommendation Systems:** LLMs can analyze user data and preferences to provide personalized recommendations for products, services, and content.\n> * **Content Personalization:** LLMs can tailor content to individual users based on their interests and preferences, enhancing engagement.\n> \n> **5. Accessibility and Inclusivity:**\n> \n> * **Language Accessibility:** LLMs can break down language barriers, making information accessible to a wider audience.\n> * **Assistive Technology:** They can be used to develop assistive technologies like speech-to-text and text-to-speech software, enhancing accessibility for individuals with disabilities.\n> \n> **However, it's important to remember that LLMs also have limitations:**\n> \n> * **Bias and Ethical Concerns:** LLMs can reflect and amplify biases present in the data they are trained on, leading to potential ethical issues.\n> * **Lack of Common Sense and Reasoning:** LLMs may struggle with tasks requiring common sense reasoning or understanding of context.\n> * **Data Dependency:** LLMs rely heavily on the quality and diversity of training data, which can impact their performance and accuracy.\n> \n> Overall, LLMs are powerful tools with the potential to revolutionize various industries and aspects of our lives. However, it's crucial to be aware of their limitations and use them responsibly.\n"
          },
          "metadata": {},
          "execution_count": 16
        }
      ]
    },
    {
      "cell_type": "markdown",
      "source": [
        "### Image"
      ],
      "metadata": {
        "id": "Vw3LPfhgGJfe"
      }
    },
    {
      "cell_type": "code",
      "source": [
        "import PIL.Image\n",
        "\n",
        "img = PIL.Image.open('image.jpg')\n",
        "img"
      ],
      "metadata": {
        "colab": {
          "base_uri": "https://localhost:8080/",
          "height": 164
        },
        "id": "5FTCmFegl0nH",
        "outputId": "620ccdd9-ec1a-4676-fce1-e9dd5bf49a57"
      },
      "execution_count": 1,
      "outputs": [
        {
          "output_type": "execute_result",
          "data": {
            "text/plain": [
              "<PIL.JpegImagePlugin.JpegImageFile image mode=RGB size=220x147>"
            ],
            "image/png": "[encoded data removed]"
          },
          "metadata": {},
          "execution_count": 1
        }
      ]
    },
    {
      "cell_type": "code",
      "source": [
        "from langchain_core.messages import HumanMessage\n",
        "from langchain_google_genai import ChatGoogleGenerativeAI\n",
        "\n",
        "llm = ChatGoogleGenerativeAI(model = \"gemini-1.5-flash\", google_api_key = GOOGLE_API_KEY)\n",
        "\n",
        "message = HumanMessage(\n",
        "    content=[\n",
        "        {\n",
        "            \"type\": \"text\",\n",
        "            \"text\": \"Write a short caption of the image for posting on social media.\"\n",
        "        },\n",
        "        {\n",
        "            \"type\": \"image_url\",\n",
        "            \"image_url\": \"/content/image.jpg\"\n",
        "        },\n",
        "    ]\n",
        ")\n",
        "llm.invoke([message])"
      ],
      "metadata": {
        "colab": {
          "base_uri": "https://localhost:8080/"
        },
        "id": "vC8IHFj0mYOu",
        "outputId": "c35e4970-d3a8-4a56-d820-25c1b02fbaed"
      },
      "execution_count": 18,
      "outputs": [
        {
          "output_type": "execute_result",
          "data": {
            "text/plain": [
              "AIMessage(content='\"I\\'m Batman.\" - The Dark Knight. 🦇 #Batman #Gotham #DCComics #Superhero #Iconic', response_metadata={'prompt_feedback': {'block_reason': 0, 'safety_ratings': []}, 'finish_reason': 'STOP', 'safety_ratings': [{'category': 'HARM_CATEGORY_SEXUALLY_EXPLICIT', 'probability': 'NEGLIGIBLE', 'blocked': False}, {'category': 'HARM_CATEGORY_HATE_SPEECH', 'probability': 'NEGLIGIBLE', 'blocked': False}, {'category': 'HARM_CATEGORY_HARASSMENT', 'probability': 'NEGLIGIBLE', 'blocked': False}, {'category': 'HARM_CATEGORY_DANGEROUS_CONTENT', 'probability': 'NEGLIGIBLE', 'blocked': False}]}, id='run-0ae4974a-4161-42d6-8761-b0c31efd5faf-0', usage_metadata={'input_tokens': 272, 'output_tokens': 25, 'total_tokens': 297})"
            ]
          },
          "metadata": {},
          "execution_count": 18
        }
      ]
    },
    {
      "cell_type": "markdown",
      "source": [
        "## Chat with Documents using RAG (Retrieval Augment Generation)"
      ],
      "metadata": {
        "id": "z1dOKRQFoKjN"
      }
    },
    {
      "cell_type": "code",
      "source": [
        "!sudo apt -y -qq install tesseract-ocr libtesseract-dev\n",
        "!sudo apt-get -y -qq install poppler-utils libxml2-dev libxslt1-dev antiword unrtf poppler-utils pstotext tesseract-ocr flac ffmpeg lame libmad0 libsox-fmt-mp3 sox libjpeg-dev swig\n",
        "!pip install langchain\n",
        "!pip install langchain-community"
      ],
      "metadata": {
        "colab": {
          "base_uri": "https://localhost:8080/"
        },
        "id": "HZVwuvoMoRQZ",
        "outputId": "f4716da8-b320-4da7-d3a5-dc5ccabc812d"
      },
      "execution_count": 21,
      "outputs": [
        {
          "output_type": "stream",
          "name": "stdout",
          "text": [
            "libtesseract-dev is already the newest version (4.1.1-2.1build1).\n",
            "tesseract-ocr is already the newest version (4.1.1-2.1build1).\n",
            "0 upgraded, 0 newly installed, 0 to remove and 45 not upgraded.\n",
            "Requirement already satisfied: langchain in /usr/local/lib/python3.10/dist-packages (0.2.12)\n",
            "Requirement already satisfied: PyYAML>=5.3 in /usr/local/lib/python3.10/dist-packages (from langchain) (6.0.2)\n",
            "Requirement already satisfied: SQLAlchemy<3,>=1.4 in /usr/local/lib/python3.10/dist-packages (from langchain) (2.0.32)\n",
            "Requirement already satisfied: aiohttp<4.0.0,>=3.8.3 in /usr/local/lib/python3.10/dist-packages (from langchain) (3.10.1)\n",
            "Requirement already satisfied: async-timeout<5.0.0,>=4.0.0 in /usr/local/lib/python3.10/dist-packages (from langchain) (4.0.3)\n",
            "Requirement already satisfied: langchain-core<0.3.0,>=0.2.27 in /usr/local/lib/python3.10/dist-packages (from langchain) (0.2.29)\n",
            "Requirement already satisfied: langchain-text-splitters<0.3.0,>=0.2.0 in /usr/local/lib/python3.10/dist-packages (from langchain) (0.2.2)\n",
            "Requirement already satisfied: langsmith<0.2.0,>=0.1.17 in /usr/local/lib/python3.10/dist-packages (from langchain) (0.1.99)\n",
            "Requirement already satisfied: numpy<2,>=1 in /usr/local/lib/python3.10/dist-packages (from langchain) (1.26.4)\n",
            "Requirement already satisfied: pydantic<3,>=1 in /usr/local/lib/python3.10/dist-packages (from langchain) (2.8.2)\n",
            "Requirement already satisfied: requests<3,>=2 in /usr/local/lib/python3.10/dist-packages (from langchain) (2.32.3)\n",
            "Requirement already satisfied: tenacity!=8.4.0,<9.0.0,>=8.1.0 in /usr/local/lib/python3.10/dist-packages (from langchain) (8.5.0)\n",
            "Requirement already satisfied: aiohappyeyeballs>=2.3.0 in /usr/local/lib/python3.10/dist-packages (from aiohttp<4.0.0,>=3.8.3->langchain) (2.3.4)\n",
            "Requirement already satisfied: aiosignal>=1.1.2 in /usr/local/lib/python3.10/dist-packages (from aiohttp<4.0.0,>=3.8.3->langchain) (1.3.1)\n",
            "Requirement already satisfied: attrs>=17.3.0 in /usr/local/lib/python3.10/dist-packages (from aiohttp<4.0.0,>=3.8.3->langchain) (24.2.0)\n",
            "Requirement already satisfied: frozenlist>=1.1.1 in /usr/local/lib/python3.10/dist-packages (from aiohttp<4.0.0,>=3.8.3->langchain) (1.4.1)\n",
            "Requirement already satisfied: multidict<7.0,>=4.5 in /usr/local/lib/python3.10/dist-packages (from aiohttp<4.0.0,>=3.8.3->langchain) (6.0.5)\n",
            "Requirement already satisfied: yarl<2.0,>=1.0 in /usr/local/lib/python3.10/dist-packages (from aiohttp<4.0.0,>=3.8.3->langchain) (1.9.4)\n",
            "Requirement already satisfied: jsonpatch<2.0,>=1.33 in /usr/local/lib/python3.10/dist-packages (from langchain-core<0.3.0,>=0.2.27->langchain) (1.33)\n",
            "Requirement already satisfied: packaging<25,>=23.2 in /usr/local/lib/python3.10/dist-packages (from langchain-core<0.3.0,>=0.2.27->langchain) (24.1)\n",
            "Requirement already satisfied: typing-extensions>=4.7 in /usr/local/lib/python3.10/dist-packages (from langchain-core<0.3.0,>=0.2.27->langchain) (4.12.2)\n",
            "Requirement already satisfied: orjson<4.0.0,>=3.9.14 in /usr/local/lib/python3.10/dist-packages (from langsmith<0.2.0,>=0.1.17->langchain) (3.10.7)\n",
            "Requirement already satisfied: annotated-types>=0.4.0 in /usr/local/lib/python3.10/dist-packages (from pydantic<3,>=1->langchain) (0.7.0)\n",
            "Requirement already satisfied: pydantic-core==2.20.1 in /usr/local/lib/python3.10/dist-packages (from pydantic<3,>=1->langchain) (2.20.1)\n",
            "Requirement already satisfied: charset-normalizer<4,>=2 in /usr/local/lib/python3.10/dist-packages (from requests<3,>=2->langchain) (3.3.2)\n",
            "Requirement already satisfied: idna<4,>=2.5 in /usr/local/lib/python3.10/dist-packages (from requests<3,>=2->langchain) (3.7)\n",
            "Requirement already satisfied: urllib3<3,>=1.21.1 in /usr/local/lib/python3.10/dist-packages (from requests<3,>=2->langchain) (2.0.7)\n",
            "Requirement already satisfied: certifi>=2017.4.17 in /usr/local/lib/python3.10/dist-packages (from requests<3,>=2->langchain) (2024.7.4)\n",
            "Requirement already satisfied: greenlet!=0.4.17 in /usr/local/lib/python3.10/dist-packages (from SQLAlchemy<3,>=1.4->langchain) (3.0.3)\n",
            "Requirement already satisfied: jsonpointer>=1.9 in /usr/local/lib/python3.10/dist-packages (from jsonpatch<2.0,>=1.33->langchain-core<0.3.0,>=0.2.27->langchain) (3.0.0)\n",
            "Collecting langchain-community\n",
            "  Downloading langchain_community-0.2.11-py3-none-any.whl.metadata (2.7 kB)\n",
            "Requirement already satisfied: PyYAML>=5.3 in /usr/local/lib/python3.10/dist-packages (from langchain-community) (6.0.2)\n",
            "Requirement already satisfied: SQLAlchemy<3,>=1.4 in /usr/local/lib/python3.10/dist-packages (from langchain-community) (2.0.32)\n",
            "Requirement already satisfied: aiohttp<4.0.0,>=3.8.3 in /usr/local/lib/python3.10/dist-packages (from langchain-community) (3.10.1)\n",
            "Collecting dataclasses-json<0.7,>=0.5.7 (from langchain-community)\n",
            "  Downloading dataclasses_json-0.6.7-py3-none-any.whl.metadata (25 kB)\n",
            "Requirement already satisfied: langchain<0.3.0,>=0.2.12 in /usr/local/lib/python3.10/dist-packages (from langchain-community) (0.2.12)\n",
            "Requirement already satisfied: langchain-core<0.3.0,>=0.2.27 in /usr/local/lib/python3.10/dist-packages (from langchain-community) (0.2.29)\n",
            "Requirement already satisfied: langsmith<0.2.0,>=0.1.0 in /usr/local/lib/python3.10/dist-packages (from langchain-community) (0.1.99)\n",
            "Requirement already satisfied: numpy<2,>=1 in /usr/local/lib/python3.10/dist-packages (from langchain-community) (1.26.4)\n",
            "Requirement already satisfied: requests<3,>=2 in /usr/local/lib/python3.10/dist-packages (from langchain-community) (2.32.3)\n",
            "Requirement already satisfied: tenacity!=8.4.0,<9.0.0,>=8.1.0 in /usr/local/lib/python3.10/dist-packages (from langchain-community) (8.5.0)\n",
            "Requirement already satisfied: aiohappyeyeballs>=2.3.0 in /usr/local/lib/python3.10/dist-packages (from aiohttp<4.0.0,>=3.8.3->langchain-community) (2.3.4)\n",
            "Requirement already satisfied: aiosignal>=1.1.2 in /usr/local/lib/python3.10/dist-packages (from aiohttp<4.0.0,>=3.8.3->langchain-community) (1.3.1)\n",
            "Requirement already satisfied: attrs>=17.3.0 in /usr/local/lib/python3.10/dist-packages (from aiohttp<4.0.0,>=3.8.3->langchain-community) (24.2.0)\n",
            "Requirement already satisfied: frozenlist>=1.1.1 in /usr/local/lib/python3.10/dist-packages (from aiohttp<4.0.0,>=3.8.3->langchain-community) (1.4.1)\n",
            "Requirement already satisfied: multidict<7.0,>=4.5 in /usr/local/lib/python3.10/dist-packages (from aiohttp<4.0.0,>=3.8.3->langchain-community) (6.0.5)\n",
            "Requirement already satisfied: yarl<2.0,>=1.0 in /usr/local/lib/python3.10/dist-packages (from aiohttp<4.0.0,>=3.8.3->langchain-community) (1.9.4)\n",
            "Requirement already satisfied: async-timeout<5.0,>=4.0 in /usr/local/lib/python3.10/dist-packages (from aiohttp<4.0.0,>=3.8.3->langchain-community) (4.0.3)\n",
            "Collecting marshmallow<4.0.0,>=3.18.0 (from dataclasses-json<0.7,>=0.5.7->langchain-community)\n",
            "  Downloading marshmallow-3.21.3-py3-none-any.whl.metadata (7.1 kB)\n",
            "Collecting typing-inspect<1,>=0.4.0 (from dataclasses-json<0.7,>=0.5.7->langchain-community)\n",
            "  Downloading typing_inspect-0.9.0-py3-none-any.whl.metadata (1.5 kB)\n",
            "Requirement already satisfied: langchain-text-splitters<0.3.0,>=0.2.0 in /usr/local/lib/python3.10/dist-packages (from langchain<0.3.0,>=0.2.12->langchain-community) (0.2.2)\n",
            "Requirement already satisfied: pydantic<3,>=1 in /usr/local/lib/python3.10/dist-packages (from langchain<0.3.0,>=0.2.12->langchain-community) (2.8.2)\n",
            "Requirement already satisfied: jsonpatch<2.0,>=1.33 in /usr/local/lib/python3.10/dist-packages (from langchain-core<0.3.0,>=0.2.27->langchain-community) (1.33)\n",
            "Requirement already satisfied: packaging<25,>=23.2 in /usr/local/lib/python3.10/dist-packages (from langchain-core<0.3.0,>=0.2.27->langchain-community) (24.1)\n",
            "Requirement already satisfied: typing-extensions>=4.7 in /usr/local/lib/python3.10/dist-packages (from langchain-core<0.3.0,>=0.2.27->langchain-community) (4.12.2)\n",
            "Requirement already satisfied: orjson<4.0.0,>=3.9.14 in /usr/local/lib/python3.10/dist-packages (from langsmith<0.2.0,>=0.1.0->langchain-community) (3.10.7)\n",
            "Requirement already satisfied: charset-normalizer<4,>=2 in /usr/local/lib/python3.10/dist-packages (from requests<3,>=2->langchain-community) (3.3.2)\n",
            "Requirement already satisfied: idna<4,>=2.5 in /usr/local/lib/python3.10/dist-packages (from requests<3,>=2->langchain-community) (3.7)\n",
            "Requirement already satisfied: urllib3<3,>=1.21.1 in /usr/local/lib/python3.10/dist-packages (from requests<3,>=2->langchain-community) (2.0.7)\n",
            "Requirement already satisfied: certifi>=2017.4.17 in /usr/local/lib/python3.10/dist-packages (from requests<3,>=2->langchain-community) (2024.7.4)\n",
            "Requirement already satisfied: greenlet!=0.4.17 in /usr/local/lib/python3.10/dist-packages (from SQLAlchemy<3,>=1.4->langchain-community) (3.0.3)\n",
            "Requirement already satisfied: jsonpointer>=1.9 in /usr/local/lib/python3.10/dist-packages (from jsonpatch<2.0,>=1.33->langchain-core<0.3.0,>=0.2.27->langchain-community) (3.0.0)\n",
            "Requirement already satisfied: annotated-types>=0.4.0 in /usr/local/lib/python3.10/dist-packages (from pydantic<3,>=1->langchain<0.3.0,>=0.2.12->langchain-community) (0.7.0)\n",
            "Requirement already satisfied: pydantic-core==2.20.1 in /usr/local/lib/python3.10/dist-packages (from pydantic<3,>=1->langchain<0.3.0,>=0.2.12->langchain-community) (2.20.1)\n",
            "Collecting mypy-extensions>=0.3.0 (from typing-inspect<1,>=0.4.0->dataclasses-json<0.7,>=0.5.7->langchain-community)\n",
            "  Downloading mypy_extensions-1.0.0-py3-none-any.whl.metadata (1.1 kB)\n",
            "Downloading langchain_community-0.2.11-py3-none-any.whl (2.3 MB)\n",
            "\u001b[2K   \u001b[90m━━━━━━━━━━━━━━━━━━━━━━━━━━━━━━━━━━━━━━━━\u001b[0m \u001b[32m2.3/2.3 MB\u001b[0m \u001b[31m34.9 MB/s\u001b[0m eta \u001b[36m0:00:00\u001b[0m\n",
            "\u001b[?25hDownloading dataclasses_json-0.6.7-py3-none-any.whl (28 kB)\n",
            "Downloading marshmallow-3.21.3-py3-none-any.whl (49 kB)\n",
            "\u001b[2K   \u001b[90m━━━━━━━━━━━━━━━━━━━━━━━━━━━━━━━━━━━━━━━━\u001b[0m \u001b[32m49.2/49.2 kB\u001b[0m \u001b[31m3.6 MB/s\u001b[0m eta \u001b[36m0:00:00\u001b[0m\n",
            "\u001b[?25hDownloading typing_inspect-0.9.0-py3-none-any.whl (8.8 kB)\n",
            "Downloading mypy_extensions-1.0.0-py3-none-any.whl (4.7 kB)\n",
            "Installing collected packages: mypy-extensions, marshmallow, typing-inspect, dataclasses-json, langchain-community\n",
            "Successfully installed dataclasses-json-0.6.7 langchain-community-0.2.11 marshmallow-3.21.3 mypy-extensions-1.0.0 typing-inspect-0.9.0\n"
          ]
        }
      ]
    },
    {
      "cell_type": "code",
      "source": [
        "import urllib\n",
        "import warnings\n",
        "from pathlib import Path as p\n",
        "from pprint import pprint\n",
        "\n",
        "import pandas as pd\n",
        "from langchain import PromptTemplate\n",
        "from langchain.chains.question_answering import load_qa_chain\n",
        "from langchain.document_loaders import PyPDFLoader\n",
        "from langchain.text_splitter import RecursiveCharacterTextSplitter\n",
        "from langchain.vectorstores import Chroma\n",
        "from langchain.chains import RetrievalQA\n",
        "\n",
        "warnings.filterwarnings(\"ignore\")"
      ],
      "metadata": {
        "id": "BLrowcq25qiu"
      },
      "execution_count": 22,
      "outputs": []
    },
    {
      "cell_type": "code",
      "source": [
        "from langchain_google_genai import ChatGoogleGenerativeAI"
      ],
      "metadata": {
        "id": "7TzCmL0p9mP1"
      },
      "execution_count": 23,
      "outputs": []
    },
    {
      "cell_type": "code",
      "source": [
        "model = ChatGoogleGenerativeAI(model=\"gemini-1.5-flash\", google_api_key=GOOGLE_API_KEY, temperature=0.2, convert_system_message_to_human=True)"
      ],
      "metadata": {
        "id": "Zd7UuLiq9s2N"
      },
      "execution_count": 24,
      "outputs": []
    },
    {
      "cell_type": "markdown",
      "source": [
        "### Extract Text from PDF"
      ],
      "metadata": {
        "id": "TAcwhsQx-mO9"
      }
    },
    {
      "cell_type": "code",
      "source": [
        "pdf_loader = PyPDFLoader(\"/content/gen-ai.pdf\")\n",
        "pages = pdf_loader.load_and_split()\n",
        "print(pages[4].page_content)"
      ],
      "metadata": {
        "colab": {
          "base_uri": "https://localhost:8080/"
        },
        "id": "o0xKMTIK-n8C",
        "outputId": "2c9d56ad-5892-4a9f-b64e-de9978895ad8"
      },
      "execution_count": 27,
      "outputs": [
        {
          "output_type": "stream",
          "name": "stdout",
          "text": [
            "Midjourney accepts both modalities to generate images. To\n",
            "this end, generative AI models can also be grouped intounimodal and multimodal models. Unimodal models take\n",
            "instructions from the same input type as their output (e.g.,\n",
            "text). On the other hand, multimodal models can take inputfrom different sources and generate output in various\n",
            "forms. Multimodal models exist across a variety of data\n",
            "modalities, for example for text, image, and audio.Prominent examples include Stable Diffusion (Rombach\n",
            "et al. 2022 ) for text-to-image generation, MusicLM\n",
            "(Agostinelli et al. 2023 ) for text-to-music generation,\n",
            "Codex (Chen et al. 2021 ) and AlphaCode (Li et al. 2022 )\n",
            "for text-to-code generation, and as mentioned above GPT-4\n",
            "for image-to-text as well as text-to-text generation(OpenAI 2023a ).\n",
            "The underlying training procedures vary greatly across\n",
            "different generative AI models (see Fig. 2). For example,\n",
            "generative adversarial networks (GANs) are trained\n",
            "through two competing objectives (Goodfellow et al.\n",
            "2014 ), where one is to create new synthetic samples while\n",
            "the other tries to detect synthetic samples from the actual\n",
            "training samples, so that the distribution of synthetic\n",
            "samples is eventually close to the distribution of thetraining samples. Differently, systems such as ChatGPT-\n",
            "based conversational models use reinforcement learning\n",
            "from human feedback (RLHF). RLHF as used by ChatGPT\n",
            "proceeds in three steps to ﬁrst create demonstration data for\n",
            "prompts, then to have users rank the quality of differentoutputs for a prompt, and ﬁnally to learn a policy that\n",
            "generates desirable output via reinforcement learning so\n",
            "that the output would score well during ranking (Ziegleret al. 2019 ).2.2.2 System-Level View\n",
            "Any system consists of a number of elements that are\n",
            "interconnected and interact with each other. For generativeAI systems, this comprises not only the aforementioned\n",
            "generative AI model but also the underlying infrastructure,\n",
            "user-facing components, and their modality as well as thecorresponding data processing (e.g., for prompts). An\n",
            "example would be the integration of deep learning models,\n",
            "like Codex (Chen et al. 2021 ), into a more interactive and\n",
            "comprehensive system, like GitHub Copilot, which allows\n",
            "its users to code more efﬁciently. Similarly, Midjourney’s\n",
            "image generation system builds on an undisclosed X-to-image generation model that users can interact with to\n",
            "generate images using Discord bots. Thus, generative AI\n",
            "systems embed the functionality of the underlying mathe-\n",
            "matical model to provide an interface for user interaction.\n",
            "This step augments the model-speciﬁc capabilities,enhancing its practicability and usability across real-world\n",
            "use cases.\n",
            "Core concerns when embedding deep learning models in\n",
            "generative AI systems generally are scalability (e.g., dis-\n",
            "tributed computing resources), deployment (e.g., in various\n",
            "environments and for different devices), and usability (e.g.,a user-friendly interface and intent recognition). As pre-\n",
            "trained open-source alternatives to closed-source, propri-\n",
            "etary models continue to be released, making these modelsavailable to their users (be it companies or individuals)\n",
            "becomes increasingly important. For both open-source and\n",
            "closed-source models, unexpected deterioration of modelperformance over time highlights the need for continuous\n",
            "model monitoring (Chen et al. 2023 ). Although powerful\n",
            "text-generating models existed before the release of theFig. 1 A model-, system-, and\n",
            "application-level view ongenerative AI\n",
            "123S. Feuerriegel et al.: Generative AI, Bus Inf Syst Eng\n"
          ]
        }
      ]
    },
    {
      "cell_type": "code",
      "source": [
        "len(pages)"
      ],
      "metadata": {
        "colab": {
          "base_uri": "https://localhost:8080/"
        },
        "id": "2zyZHqtR_Cqh",
        "outputId": "f0173aac-6cb8-4b4f-a68b-1d87c71b217b"
      },
      "execution_count": 28,
      "outputs": [
        {
          "output_type": "execute_result",
          "data": {
            "text/plain": [
              "30"
            ]
          },
          "metadata": {},
          "execution_count": 28
        }
      ]
    },
    {
      "cell_type": "markdown",
      "source": [
        "### RAG Pipeline: Embedding and Gemini LLM"
      ],
      "metadata": {
        "id": "kLL9MHcX_Gea"
      }
    },
    {
      "cell_type": "code",
      "source": [
        "from langchain_google_genai import GoogleGenerativeAIEmbeddings"
      ],
      "metadata": {
        "id": "hzKM80az_LHb"
      },
      "execution_count": 29,
      "outputs": []
    },
    {
      "cell_type": "code",
      "source": [
        "text_splitter = RecursiveCharacterTextSplitter(chunk_size=10000, chunk_overlap=1000)\n",
        "context = \"\\n\\n\".join(str(p.page_content) for p in pages)\n",
        "texts = text_splitter.split_text(context)"
      ],
      "metadata": {
        "id": "uWj8QGSU_ueH"
      },
      "execution_count": 30,
      "outputs": []
    },
    {
      "cell_type": "code",
      "source": [
        "embeddings = GoogleGenerativeAIEmbeddings(model=\"models/embedding-001\", google_api_key=GOOGLE_API_KEY)"
      ],
      "metadata": {
        "id": "BIZwGMArCPF8"
      },
      "execution_count": 31,
      "outputs": []
    },
    {
      "cell_type": "code",
      "source": [
        "vector_index = Chroma.from_texts(texts, embeddings).as_retriever(search_kwargs={\"k\": 5})"
      ],
      "metadata": {
        "id": "jcHLTN08CaoO"
      },
      "execution_count": 32,
      "outputs": []
    },
    {
      "cell_type": "code",
      "source": [
        "qa_chain = RetrievalQA.from_chain_type(\n",
        "    model,\n",
        "    retriever=vector_index,\n",
        "    return_source_documents=True\n",
        ")"
      ],
      "metadata": {
        "id": "JB_rzPKKCuYn"
      },
      "execution_count": 33,
      "outputs": []
    },
    {
      "cell_type": "code",
      "source": [
        "question = \"Describe Zero-shot learning in detail\"\n",
        "result = qa_chain({\"query\": question})\n",
        "Markdown(result[\"result\"])"
      ],
      "metadata": {
        "colab": {
          "base_uri": "https://localhost:8080/",
          "height": 240
        },
        "id": "vYI-i9JHC8se",
        "outputId": "fe6e31fb-0515-4938-ba1f-4c4fd2140b7e"
      },
      "execution_count": 37,
      "outputs": [
        {
          "output_type": "execute_result",
          "data": {
            "text/plain": [
              "<IPython.core.display.Markdown object>"
            ],
            "text/markdown": "Zero-shot learning is a paradigm in machine learning that addresses the challenge of data scarcity. It refers to the ability of a machine to learn a task from data without ever needing to access the data itself. This means the machine can learn to perform a task even if it has never seen any examples of that task before.\n\nIn contrast, traditional machine learning methods require a large amount of labeled data to train a model. Zero-shot learning offers a solution to this problem by leveraging prior knowledge about the task or the data. This prior knowledge can be in the form of descriptions, attributes, or relationships between different concepts.\n\nFor example, a zero-shot learning system could be trained to recognize new types of animals, even if it has never seen an image of that animal before. The system would learn to recognize the animal based on its description, such as \"a large, furry animal with four legs and a long tail.\"\n\nZero-shot learning is often desirable in practice because it reduces the cost of setting up AI systems. It eliminates the need for collecting and labeling large amounts of data, which can be a time-consuming and expensive process.\n\nLarge language models (LLMs) are often considered few-shot or zero-shot learners. They can learn a new task with just a few examples, making them highly flexible and adaptable as a general-purpose tool. \n"
          },
          "metadata": {},
          "execution_count": 37
        }
      ]
    },
    {
      "cell_type": "code",
      "source": [
        "result[\"source_documents\"]"
      ],
      "metadata": {
        "colab": {
          "base_uri": "https://localhost:8080/"
        },
        "id": "_Ldg11zoDjJm",
        "outputId": "4f87e05c-9e68-4a3c-81ee-04e30cecbc7d"
      },
      "execution_count": 39,
      "outputs": [
        {
          "output_type": "execute_result",
          "data": {
            "text/plain": [
              "[Document(page_content='ChatGPT system in November 2022, ChatGPT’s ease of\\nuse also for non-expert users was a core contributing factor\\nto its explosive worldwide adoption.\\nMoreover, on the system level, multiple components of\\na generative AI system can be integrated or connected to\\nother systems, external databases with domain-speciﬁc\\nknowledge, or platforms. For example, common limitationsin many generative AI models are that they were trained on\\nhistorical data with speciﬁc cut-off date and thus do not\\nstore information beyond or that an information compres-sion takes place because of which generative AI models\\nmay not remember everything that they saw during training\\n(Chiang 2023 ). Both limitations can be mitigated by aug-\\nmenting the model with functionality for real-timeTable 1 continued\\nConcept Description\\nZero-shot learning / few-shot\\nlearningZero-shot learning and few-shot learning refer to different paradigms of how machine learning deals with\\nthe problem of data scarcity. Zero-shot learning is when a machine is taught how to learn a task from data\\nwithout ever needing to access the data itself, while few-short learning refers to when there are only a fewspeciﬁc examples. Zero-shot learning and few-shot learning are often desirable in practice as they reducethe cost of setting up AI systems. LLMs are few-shot or zero-shot learners (Brown et al. 2020 ) as they just\\nneed a few samples to learn a task (e.g., predicting the sentiment of reviews), which makes LLMs highly\\nﬂexible as a general-purpose tool.\\nFig. 2 Examples of different training procedures for generative AI models. aGenerative adversarial network (GAN). bReinforcement learning\\nfrom human feedback (RLHF) as used in conversational generative AI models\\n123S. Feuerriegel et al.: Generative AI, Bus Inf Syst Eng\\n\\ninformation retrieval, which can substantially enhance its\\naccuracy and usefulness. Relatedly, in the context of text\\ngeneration, online language modeling addresses the prob-\\nlem of outdated models by continuously training them onup-to-date data.\\n2Thereby, such models can then be\\nknowledgeable of recent events that their static counter-\\nparts would not be aware of due to their training cut-offdates.\\n2.2.3 Application-Level ViewGenerative AI applications are generative AI systems sit-\\nuated in organizations to deliver value by solving dedicated\\nbusiness problems and addressing stakeholder needs. They\\ncan be regarded as human-task-technology systems orinformation systems that use generative AI technology to\\naugment human capacities to accomplish speciﬁc tasks.\\nThis level of generative AI encompasses countless real-world use cases: These range from SEO content generation\\n(Reisenbichler et al. 2022 ), over synthetic movie genera-\\ntion (Metz 2023 ) and AI music generation (Garcia 2023 ),\\nto natural language-based software development (Chen\\net al. 2021 ).\\nGenerative AI applications will give rise to novel\\ntechnology-enabled modes of work. The more users will\\nfamiliarize themselves with these novel applications, the\\nmore they will trust or mistrust them as well as use ordisuse them. Over time, applications will likely transition\\nfrom mundane tasks such as writing standard letters and\\ngetting a dinner reservation to more sensitive tasks such assoliciting medical or legal advice. They will involve more\\nconsequential decisions, which may even involve moral\\njudgment (Kru ¨gel et al. 2023 ). This ever-increasing scope\\nand pervasiveness of generative AI applications give rise to\\nan imminent need not only to provide prescriptions and\\nprinciples for trustworthy and reliable designs, but also forscrutinizing the effects on the user to calibrate qualities\\nsuch as trust appropriately. The (continued) use and\\nadoption of such applications by end users and organiza-tions entails a number of fundamental socio-technical\\nconsiderations to descry innovation potential and affor-\\ndances of generative AI artifacts.\\n2.3 A Socio-Technical View on Generative AI\\nAs technology advances, the deﬁnition and extent of what\\nconstitutes AI are continuously reﬁned, while the reference\\npoint of human intelligence stays comparatively constant(Berente et al. 2021 ). With generative AI, we are\\napproaching a further point of reﬁnement . In the past, the\\ncapability of AI was mostly understood to be analytic,\\nsuitable for decision-making tasks. Now, AI gains thecapability to perform generative tasks, suitable for content\\ncreation. While the procedure of content creation to some\\nrespect can still be considered analytic as it is inherentlyprobabilistic, its results can be creative or even artistic as\\ngenerative AI combines elements in novel ways. Further,\\nIT artifacts were considered passive as they were used\\ndirectly by humans. With the advent of agentic IT artifacts\\n(Baird and Maruping 2021 ) powered by LLMs (Park et al.\\n2023 ), this human agency primacy assumption needs to be\\nrevisited and impacts how we devise the relation between\\nhuman and AI based on their potency. Eventually, this mayrequire AI capability models to structure, explain, guide,\\nand constrain the different abilities of AI systems and their\\nuses as AI applications.\\nFocusing on the interaction between humans and AI, so\\nfar, for analytic AI, the concept of delegation has been\\ndiscussed to establish a hierarchy for decision-making(Baird and Maruping 2021 ). With generative AI, a human\\nuses prompts to engage with an AI system to create con-\\ntent, and the AI then interprets the human’s intentions andprovides feedback to presuppose further prompts. At ﬁrst\\nglance, this seems to follow a delegation pattern as well.\\nYet, the subsequent process does not, as the output of theAI can be suggestive to the other and will inform their\\nfurther involvement directly or subconsciously. Thus, the\\n\\nYet, the subsequent process does not, as the output of theAI can be suggestive to the other and will inform their\\nfurther involvement directly or subconsciously. Thus, the\\nprocess of creation rather follows a co-creation pattern, thatis, the practice of collaborating in different roles to align\\nand offer diverse insights to guide a design process\\n(Ramaswamy and Ozcan 2018 ). Using the lens of agentic\\nAI artifacts, initiation is not limited to humans.\\nThe abovementioned interactions also impact our cur-\\nrent understanding of hybrid intelligence as the integrationof humans and AI, leveraging the unique strengths of both.\\nHybrid intelligence argues to address the limitations of\\neach intelligence type by combining human intuition, cre-ativity, and empathy with the computational power, accu-\\nracy, and scalability of AI systems to achieve enhanced\\ndecision-making and problem-solving capabilities (Deller-mann et al. 2019 ). With generative AI and the AI’s capa-\\nbility to co-create, the understanding of what constitutes\\nthis collective intelligence begins to shift. Hence, novelhuman-AI interaction models and patterns may become\\nnecessary to explain and guide the behavior of humans and\\nAI systems to enable effective and efﬁcient use in AIapplications on the one hand and, on the other hand, to\\nensure envelopment of AI agency and reach (Asatiani et al.\\n2021 ).\\nOn a theoretical level, this shift in human-computer or\\nrather human-AI interaction fuels another important2Seehttps://github.com/huggingface/olm-datasets (accessed 25 Aug\\n2023) for a script that enables users to pull up-to-date data from theweb for training online language models, for instance, from CommonCrawl and Wikipedia.\\n123S. Feuerriegel et al.: Generative AI, Bus Inf Syst Eng'),\n",
              " Document(page_content='Midjourney accepts both modalities to generate images. To\\nthis end, generative AI models can also be grouped intounimodal and multimodal models. Unimodal models take\\ninstructions from the same input type as their output (e.g.,\\ntext). On the other hand, multimodal models can take inputfrom different sources and generate output in various\\nforms. Multimodal models exist across a variety of data\\nmodalities, for example for text, image, and audio.Prominent examples include Stable Diffusion (Rombach\\net al. 2022 ) for text-to-image generation, MusicLM\\n(Agostinelli et al. 2023 ) for text-to-music generation,\\nCodex (Chen et al. 2021 ) and AlphaCode (Li et al. 2022 )\\nfor text-to-code generation, and as mentioned above GPT-4\\nfor image-to-text as well as text-to-text generation(OpenAI 2023a ).\\nThe underlying training procedures vary greatly across\\ndifferent generative AI models (see Fig. 2). For example,\\ngenerative adversarial networks (GANs) are trained\\nthrough two competing objectives (Goodfellow et al.\\n2014 ), where one is to create new synthetic samples while\\nthe other tries to detect synthetic samples from the actual\\ntraining samples, so that the distribution of synthetic\\nsamples is eventually close to the distribution of thetraining samples. Differently, systems such as ChatGPT-\\nbased conversational models use reinforcement learning\\nfrom human feedback (RLHF). RLHF as used by ChatGPT\\nproceeds in three steps to ﬁrst create demonstration data for\\nprompts, then to have users rank the quality of differentoutputs for a prompt, and ﬁnally to learn a policy that\\ngenerates desirable output via reinforcement learning so\\nthat the output would score well during ranking (Ziegleret al. 2019 ).2.2.2 System-Level View\\nAny system consists of a number of elements that are\\ninterconnected and interact with each other. For generativeAI systems, this comprises not only the aforementioned\\ngenerative AI model but also the underlying infrastructure,\\nuser-facing components, and their modality as well as thecorresponding data processing (e.g., for prompts). An\\nexample would be the integration of deep learning models,\\nlike Codex (Chen et al. 2021 ), into a more interactive and\\ncomprehensive system, like GitHub Copilot, which allows\\nits users to code more efﬁciently. Similarly, Midjourney’s\\nimage generation system builds on an undisclosed X-to-image generation model that users can interact with to\\ngenerate images using Discord bots. Thus, generative AI\\nsystems embed the functionality of the underlying mathe-\\nmatical model to provide an interface for user interaction.\\nThis step augments the model-speciﬁc capabilities,enhancing its practicability and usability across real-world\\nuse cases.\\nCore concerns when embedding deep learning models in\\ngenerative AI systems generally are scalability (e.g., dis-\\ntributed computing resources), deployment (e.g., in various\\nenvironments and for different devices), and usability (e.g.,a user-friendly interface and intent recognition). As pre-\\ntrained open-source alternatives to closed-source, propri-\\netary models continue to be released, making these modelsavailable to their users (be it companies or individuals)\\nbecomes increasingly important. For both open-source and\\nclosed-source models, unexpected deterioration of modelperformance over time highlights the need for continuous\\nmodel monitoring (Chen et al. 2023 ). Although powerful\\ntext-generating models existed before the release of theFig. 1 A model-, system-, and\\napplication-level view ongenerative AI\\n123S. Feuerriegel et al.: Generative AI, Bus Inf Syst Eng\\n\\nTable 1 Glossary of key concepts in generative AI\\nConcept Description\\nDiffusion probabilistic models Diffusion probability models are a class of latent variable models that are common for various tasks such as\\nimage generation (Ho et al. 2020 ). Formally, diffusion probability models capture the image data by\\nmodeling the way data points diffuse through a latent space, which is inspired by statistical physics.\\nSpeciﬁcally, they typically use Markov chains trained with variational inference and then reverse the\\ndiffusion process to generate a natural image. A notable variant is Stable Diffusion (Rombach et al. 2022 ).\\nDiffusion probability models are also used in commercial systems such as DALL-E and Midjourney.\\nGenerative adversarial network A GAN is a class of neural network architecture with a custom, adversarial learning objective (Goodfellow\\net al. 2014 ). A GAN consists of two neural networks that contest with each other in the form of a zero-sum\\ngame, so that samples from a speciﬁc distribution can be generated. Formally, the ﬁrst network Gis called\\nthe generator, which generates candidate samples. The second network Dis called the discriminator, which\\nevaluates how likely the candidate samples come from a desired distribution. Thanks to the adversarial\\nlearning objective, the generator learns to map from a latent space to a data distribution of interest, while\\nthe discriminator distinguishes candidates produced by the generator from the true data distribution (seeFig. 2).\\n(Large) language model A (large) language model (LLM) refers to neural networks for modeling and generating text data that\\ntypically combine three characteristics. First, the language model uses a large-scale, sequential neural\\nnetwork (e.g., transformer with an attention mechanism). Second, the neural network is pre-trained through\\nself-supervision in which auxiliary tasks are designed to learn a representation of natural language withoutrisk of overﬁtting (e.g., next-word prediction). Third, the pre-training makes use of large-scale datasets of\\ntext (e.g., Wikipedia, or even multi-language datasets). Eventually, the language model may be ﬁne-tuned\\nby practitioners with custom datasets for speciﬁc tasks (e.g., question answering, natural languagegeneration). Recently, language models have evolved into so-called LLMs, which combine billions ofparameters. Prominent examples of massive LLMs are BERT (Devlin et al. 2018 ) and GPT-3 (Brown et al.\\n2020 ) with /C24340 million and /C24175 billion parameters, respectively.\\nReinforcement learning from\\nhuman feedbackRLHF learns sequential tasks (e.g., chat dialogues) from human feedback. Different from traditional\\nreinforcement learning, RLHF directly trains a so-called reward model from human feedback and then usesthe model as a reward function to optimize the policy, which is optimized through data-efﬁcient and robustalgorithms (Ziegler et al. 2019 ). RLHF is used in conversational systems such as ChatGPT (OpenAI 2022 )\\nfor generating chat messages, such that new answers accommodate the previous chat dialogue and ensure\\nthat the answers are in alignment with predeﬁned human preferences (e.g., length, style, appropriateness)\\nPrompt learning Prompt learning is a method for LLMs that uses the knowledge stored in language models for downstream\\ntasks (Liu et al. 2023 ). In general, prompt learning does not require any ﬁne-tuning of the language model,\\nwhich makes it efﬁcient and ﬂexible. A prompt is a speciﬁc input to a language model (e.g., ‘‘The movie\\nwas superb. Sentiment: ‘‘) and then the most probable output s2f‘‘positive’’ ;‘‘negative’’ ginstead of the\\nspace is picked. Recent advances allow for more complex data-driven prompt engineering, such as tuningprompts via reinforcement learning (Liu et al. 2023 ).\\nseq2seq The term sequence-to-sequence (seq2seq) refers to machine learning approaches where an input sequence is\\n\\nseq2seq The term sequence-to-sequence (seq2seq) refers to machine learning approaches where an input sequence is\\nmapped onto an output sequence (Sutskever et al. 2014 ). An example is machine learning-based translation\\nbetween different languages. Such seq2seq approaches consist of two main components: An encoder turnseach element in a sequence (e.g., each word in a text) into a corresponding hidden vector containing the\\nelement and its context. The decoder reverses the process, turning the vector into an output element (e.g., a\\nword from the new language) while considering the previous output to model dependencies in language.The idea of seq2seq models has been extended to allow for multi-modal mappings such as text-to-image ortext-to-speech mappings.\\nTransformer A transformer is a deep learning architecture (Vaswani et al. 2017 ) that adopts the mechanism of self-\\nattention which differentially weights the importance of each part of the input data. Like recurrent neural\\nnetworks (RNNs), transformers are designed to process sequential input data, such as natural language, withapplications for tasks such as translation and text summarization. However, unlike RNNs, transformers\\nprocess the entire input all at once. The attention mechanism provides context for any position in the input\\nsequence. Eventually, the output of a transformer (or an RNN in general) is a document embedding, whichpresents a lower-dimensional representation of text (or other input) sequences where similar texts arelocated in closer proximity which typically beneﬁts downstream tasks as this allows to capture semantics\\nand meaning (Siebers et al. 2022 ).\\nVariational autoencoder A variational autoencoder (VAE) is a type of neural network that is trained to learn a low-dimensional\\nrepresentation of the input data by encoding it into a compressed latent variable space and thenreconstructing the original data from this compressed representation. VAEs differ from traditionalautoencoders by using a probabilistic approach to the encoding and decoding process, which enables them\\nto capture the underlying structure and variation in the data and generate new data samples from the learned\\nlatent space (Kingma and Welling 2013 ). This makes them useful for tasks such as anomaly detection and\\ndata compression but also image and text generation.\\n123S. Feuerriegel et al.: Generative AI, Bus Inf Syst Eng'),\n",
              " Document(page_content='See discussions, st ats, and author pr ofiles f or this public ation at : https://www .researchgate.ne t/public ation/370653602\\nGenerative AI\\nPreprint  · May 2023\\nCITATIONS\\n0READS\\n43,984\\n4 author s, including:\\nJochen Hartmann\\nTechnische Univ ersität München\\n31 PUBLICA TIONS \\xa0\\xa0\\xa0916 CITATIONS \\xa0\\xa0\\xa0\\nSEE PROFILE\\nPatrick Zschech\\nUniv ersity of L eipzig\\n72 PUBLICA TIONS \\xa0\\xa0\\xa02,049  CITATIONS \\xa0\\xa0\\xa0\\nSEE PROFILE\\nAll c ontent f ollo wing this p age was uplo aded b y Patrick Zschech  on 05 Oct ober 2023.\\nThe user has r equest ed enhanc ement of the do wnlo aded file.\\n\\nCATCHWORD\\nGenerative AI\\nStefan Feuerriegel •Jochen Hartmann •Christian Janiesch •\\nPatrick Zschech\\nReceived: 29 April 2023 / Accepted: 7 August 2023\\n/C211The Author(s) 2023\\nKeywords Generative AI /C1Artiﬁcial intelligence /C1\\nDecision support /C1Content creation /C1Information systems\\n1 Introduction\\nTom Freston is credited with saying ‘‘Innovation is taking\\ntwo things that exist and putting them together in a new\\nway’’. For a long time in history, it has been the prevailingassumption that artistic, creative tasks such as writing\\npoems, creating software, designing fashion, and compos-\\ning songs could only be performed by humans. Thisassumption has changed drastically with recent advances in\\nartiﬁcial intelligence (AI) that can generate new content in\\nways that cannot be distinguished anymore from humancraftsmanship.The term generative AI refers to computational tech-\\nniques that are capable of generating seemingly new,\\nmeaningful content such as text, images, or audio fromtraining data. The widespread diffusion of this technology\\nwith examples such as Dall-E 2, GPT-4, and Copilot is\\ncurrently revolutionizing the way we work and communi-cate with each other. Generative AI systems can not only\\nbe used for artistic purposes to create new text mimicking\\nwriters or new images mimicking illustrators, but they canand will assist humans as intelligent question-answering\\nsystems. Here, applications include information technology\\n(IT) help desks where generative AI supports transitionalknowledge work tasks and mundane needs such as cooking\\nrecipes and medical advice. Industry reports suggest that\\ngenerative AI could raise global gross domestic product(GDP) by 7% and replace 300 million jobs of knowledge\\nworkers (Goldman Sachs 2023 ). Undoubtedly, this has\\ndrastic implications not only for the Business & Informa-tion Systems Engineering (BISE) community, where we\\nwill face revolutionary opportunities, but also challenges\\nand risks that we need to tackle and manage to steer the\\ntechnology and its use in a responsible and sustainable\\ndirection.\\nIn this Catchword article, we provide a conceptualiza-\\ntion of generative AI as an entity in socio-technical systems\\nand provide examples of models, systems, and applica-tions. Based on that, we introduce limitations of current\\ngenerative AI and provide an agenda for BISE research.\\nPrevious papers discuss generative AI around speciﬁcmethods such as language models (e.g., Teubner et al.\\n2023 ; Dwivedi et al. 2023 ; Scho ¨bel et al. 2023 ) or speciﬁc\\napplications such as marketing (e.g., Peres et al. 2023 ),\\ninnovation management (Burger et al. 2023 ), scholarly\\nresearch (e.g., Susarla et al. 2023 ; Davison et al. 2023 ),\\nand education (e.g., Kasneci et al. 2023 ; Gimpel et al.\\nAccepted after one revision by Susanne Strahringer.\\nS. Feuerriegel ( &)\\nLMU Munich and Munich Center for Machine Learning,\\nGeschwister-Scholl-Platz 1, 80539 Munich, Germanye-mail: feuerriegel@lmu.de\\nJ. Hartmann\\nTechnical University of Munich, TUM School of Management,Arcisstr. 21, 80333 Munich, Germanye-mail: jochen.hartmann@tum.de\\nC. Janiesch\\nTU Dortmund University, Otto-Hahn-Str. 12, 44319 Dortmund,Germanye-mail: christian.janiesch@tu-dortmund.de\\nP. Zschech\\nFAU Erlangen-Nu ¨rnberg, Lange Gasse 20, 90403 Nu ¨rnberg,\\nGermanye-mail: patrick.zschech@fau.de\\n123Bus Inf Syst Eng\\nhttps://doi.org/10.1007/s12599-023-00834-7\\n\\n2023 ). Different from these works, we focus on generative\\nAI in the context of information systems, and, to this end,\\nwe discuss several opportunities and challenges that are\\nunique to the BISE community and make suggestions forimpactful directions for BISE research.\\n2 Conceptualization\\n2.1 Mathematical Principles of Generative AIGenerative AI is primarily based on generative modeling,\\nwhich has distinctive mathematical differences from dis-\\ncriminative modeling (Ng and Jordan 2001 ) often used in\\ndata-driven decision support. In general, discriminativemodeling tries to separate data points Xinto different\\nclasses Yby learning decision boundaries between them\\n(e.g., in classiﬁcation tasks with Y2f0;1g). In contrast to\\nthat, generative modeling aims to infer some actual data\\ndistribution. Examples can be the joint probability distri-\\nbution P(X,Y) of both the inputs and the outputs or P(Y),\\nbut where Yis typically from some high-dimensional\\nspace. By doing so, a generative model offers the ability to\\nproduce new synthetic samples (e.g., generate new obser-vation-target-pairs ( X,Y) or new observations Xgiven a\\ntarget value Y) (Bishop 2006 ).\\nBuilding upon the above, a generative AI model refers to\\ngenerative modeling that is instantiated with a machine\\nlearning architecture (e.g., a deep neural network) and,\\ntherefore, can create new data samples based on learnedpatterns.\\n1Further, a generative AI system encompasses the\\nentire infrastructure, including the model, data processing,\\nand user interface components. The model serves as thecore component of the system, which facilitates interaction\\nand application within a broader context. Lastly, generative\\nAI applications refer to the practical use cases and imple-\\nmentations of these systems, such as search engine opti-\\nmization (SEO) content generation or code generation that\\nsolve real-world problems and drive innovation acrossvarious domains. Figure 1shows a systematization of\\ngenerative AI across selected data modalities (e.g., text,\\nimage, and audio) and the model-, system-, and application-level perspectives, which we detail in the following section.Note that the modalities in Fig. 1are neither complete\\nnor entirely distinctive and can be detailed further. In\\naddition, many unique use cases such as, for example,\\nmodeling functional properties of proteins (Unsal et al.2022 ) can be represented in another modality such as text.\\n2.2 A Model-, System-, and Application-Level View\\nof Generative AI\\n2.2.1 Model-Level ViewA generative AI model is a type of machine learning\\narchitecture that uses AI algorithms to create novel data\\ninstances, drawing upon the patterns and relationships\\nobserved in the training data. A generative AI model is ofcritically central yet incomplete nature, as it requires fur-\\nther ﬁne-tuning to speciﬁc tasks through systems and\\napplications.\\nDeep neural networks are particularly well suited for the\\npurpose of data generation, especially as deep neural net-\\nworks can be designed using different architectures tomodel different data types (Janiesch et al. 2021 ; Kraus\\net al. 2020 ), for example, sequential data such as human\\nlanguage or spatial data such as images. Table 1presents\\nan overview of the underlying concepts and model archi-\\ntectures that are common in the context of generative AI,\\nsuch as diffusion probabilistic models for text-to-imagegeneration or the transformer architecture and (large) lan-\\nguage models (LLMs) for text generation. GPT (short for\\ngenerative pre-trained transformer), for example, repre-sents a popular family of LLMs, used for text generation,\\nfor instance, in the conversational agent ChatGPT.\\nLarge generative AI models that can model output in\\nand across speciﬁc domains or speciﬁc data types in a\\ncomprehensive and versatile manner are oftentimes also\\ncalled foundation models (Bommasani et al. 2021 ). Due to\\ntheir size, they exhibit two key properties: emergence ,\\nmeaning the behavior is oftentimes implicitly induced\\n\\ncalled foundation models (Bommasani et al. 2021 ). Due to\\ntheir size, they exhibit two key properties: emergence ,\\nmeaning the behavior is oftentimes implicitly induced\\nrather than explicitly constructed (e.g., GPT models cancreate calendar entries in the .ical format even though such\\nmodels were not explicitly trained to do so), and homog-\\nenization , where a wide range of systems and applications\\ncan now be powered by a single, consolidated model (e.g.,\\nCopilot can generate source code across a wide range of\\nprogramming languages).\\nFigure 1presents an overview of generative AI models\\nalong different, selected data modalities, which are pre-\\ntrained on massive amounts of data. Note that we structurethe models in Fig. 1by their output modality such as X-to-\\ntext or X-to-image. For example, GPT-4 as the most recent\\ngenerative AI model underlying OpenAI’s popular con-versational agent ChatGPT (OpenAI 2023a ) accepts both\\nimage and text inputs to generate text outputs. Similarly,\\n1It should be noted, however, that advanced generative AI models\\nare often not based on a single modeling principle or learningmechanism, but combine different approaches. For example, language\\nmodels from the GPT family ﬁrst apply a generative pre-training\\nstage to capture the distribution of language data using a languagemodeling objective, while downstream systems typically then apply adiscriminative ﬁne-tuning stage to adapt the model parameters to\\nspeciﬁc tasks (e.g., document classiﬁcation, question answering).\\nSimilarly, ChatGPT combines techniques from generative modelingtogether with discriminatory modeling and reinforcement learning(see Fig. 2).\\n123S. Feuerriegel et al.: Generative AI, Bus Inf Syst Eng'),\n",
              " Document(page_content='Schoormann T, Stadtla ¨nder M, Knackstedt R (2023) Act and reﬂect:\\nintegrating reﬂection into design thinking. J Manag Inf Syst\\n40(1):7–37. https://doi.org/10.1080/07421222.2023.2172773\\nSchoormann T, Strobel G, Mo ¨ller F, Petrik D, Zschech P (2023)\\nArtiﬁcial intelligence for sustainability: a systematic review of\\ninformation systems literature. Commun AIS 52(1):8\\nSchramowski P, Turan C, Andersen N, Rothkopf CA, Kersting K\\n(2022) Large pre-trained language models contain human-like\\nbiases of what is right and wrong to do. Nat Machine Intell\\n4(3):258–268\\nSchwartz R, Dodge J, Smith NA, Etzioni O (2020) Green AI.\\nCommun ACM 63(12):54–63\\nScho¨bel S, Schmitt A, Benner D, Saqr M, Janson A, Leimeister JM\\n(2023) Charting the evolution and future of conversationalagents: a research agenda along ﬁve waves and new frontiers. InfSyst Front. https://doi.org/10.1007/s10796-023-10375-9\\nSenoner J, Netland T, Feuerriegel S (2022) Using explainable\\nartiﬁcial intelligence to improve process quality: evidence fromsemiconductor manufacturing. Manag Sci 68(8):5704–5723\\nShin M, Kim J, van Opheusden B, Grifﬁths TL (2023) Superhuman\\nartiﬁcial intelligence can improve human decision-making byincreasing novelty. Proc Natl Acad Sci 120(12):e2214840,120\\nShollo A, Hopf K, Thiess T, Mu ¨ller O (2022) Shifting ML value\\ncreation mechanisms: a process model of ML value creation.\\nJ Strateg Inf Syst 31(3):101,734. https://doi.org/10.1016/j.jsis.\\n2022.101734\\nSiebers P, Janiesch C, Zschech P (2022) A survey of text represen-\\ntation methods and their genealogy. IEEE Access 10:96,492-\\n96,513. https://doi.org/10.1109/ACCESS.2022.3205719\\nSilva N, Sousa P, Mira da Silva M (2021) Maintenance of enterprise\\narchitecture models. Bus Inf Syst Eng 63(2):157–180. https://doi.\\norg/10.1007/s12599-020-00636-1\\nSlack D, Krishna S, Lakkaraju H, Singh S (2023) Explaining machine\\nlearning models with interactive natural language conversations\\nusing TalkToModel. Nat Machine Intell 5:873–883\\nSmits J, Borghuis T (2022) Generative AI and intellectual property\\nrights. Law and artiﬁcial intelligence: regulating AI and applyingai in legal practice. Springer, Heidelberg, pp 323–344\\nSpitale G, Biller-Andorno N, Germani F (2023) AI model GPT-3 (dis)\\ninforms us better than humans. Sci Adv 9:eadh1850\\nStrobelt H, Webson A, Sanh V, Hoover B, Beyer J, Pﬁster H, Rush\\nAM (2023) Interactive and visual prompt engineering for ad-hoc\\ntask adaptation with large language models. IEEE Transact\\nVisual Comput Graphics 29(1):1146–1156. https://doi.org/10.\\n1109/TVCG.2022.3209479Susarla A, Thatcher RGJB, Sarker S (2023) Editorial: the janus effect\\nof generative AI: charting the path for responsible conduct of\\nscholarly activities in information systems. Inf Syst Res34(2):399–408. https://doi.org/10.1287/isre.2023.ed.v34.n2\\nSutskever I, Vinyals O, Le QV (2014) Sequence to sequence learning\\nwith neural networks. Adv Neural Inf Process Syst27:3104–3112\\nTeubner T, Flath CM, Weinhardt C, van der Aalst W, Hinz O (2023)\\nWelcome to the era of ChatGPT. Bus Inf Syst Eng 65(2):95–101.\\nhttps://doi.org/10.1007/s12599-023-00795-x\\nUnsal S, Atas H, Albayrak M, Turhan K, Acar AC, Dog ˘an T (2022)\\nLearning functional properties of proteins with language models.\\nNat Machine Intell 4(3):227–245\\nvan der Aalst WMP, Bichler M, Heinzl A (2018) Robotic process\\nautomation. Bus Inf Syst Eng 60(4):269–272. https://doi.org/10.\\n1007/s12599-018-0542-4\\nVaswani A, Shazeer N, Parmar N, Uszkoreit J, Jones L, Gomez AN,\\nKaiser Ł, Polosukhin I (2017) Attention is all you need. AdvNeural Inf Process Syst 30:6000–6010\\nVernadat F (2020) Enterprise modelling: research review and outlook.\\nComput Indust 122(103):265. https://doi.org/10.1016/j.compind.\\n2020.103265\\nVidgof M, Bachhofner S, Mendling J (2023) Large language models\\nfor business process management: opportunities and challenges.\\nIn: Business process management forum. Lecture Notes inComputer Science, Springer, Cham, pp 107-123\\nvon Zahn M, Feuerriegel S, Kuehl N (2022) The cost of fairness in\\n\\nIn: Business process management forum. Lecture Notes inComputer Science, Springer, Cham, pp 107-123\\nvon Zahn M, Feuerriegel S, Kuehl N (2022) The cost of fairness in\\nAI: evidence from e-commerce. Bus Inf Syst Eng 64:335–348\\nWolfe R, Banaji MR, Caliskan A (2022) Evidence for hypodescent in\\nvisual semantic AI. In: ACM conference on fairness, account-\\nability, and transparency, pp 1293–1304\\nZiegler DM, Stiennon N, Wu J, Brown TB, Radford A, Amodei D,\\nChristiano P, Irving G (2019) Fine-tuning language models fromhuman preferences. arXiv:1909.08593\\nZilker S, Weinzierl S, Zschech P, Kraus M, Matzner M (2023) Best of\\nboth worlds: combining predictive power with interpretable andexplainable results for patient pathway prediction. In: Proceed-ings of the 31st European Conference on Information Systems\\n(ECIS), Kristiansand, Norway\\nZschech P, Horn R, Ho ¨schele D, Janiesch C, Heinrich K (2020)\\nIntelligent user assistance for automated data mining methodselection. Bus Inf Syst Eng 62(3):227–247. https://doi.org/10.\\n1007/s12599-020-00642-3\\n123S. Feuerriegel et al.: Generative AI, Bus Inf Syst Eng\\nView publication stats'),\n",
              " Document(page_content='major drawback of traditional enterprise models is that they\\nare static and may not provide the level of abstraction that\\nis required by the end user. Likewise, their construction\\nand maintenance are time-consuming and expensive andrequire manual effort and human expertise (Silva et al.\\n2021 ). With generative AI, we see a large potential that\\nmany of these limitations can be addressed by generativeAI as assistive technology (Sandkuhl et al. 2018 ), for\\nexample by automatically creating and updating enterprise\\nmodels at different levels of abstraction or generating\\nmulti-modal representations.\\nFirst empirical results suggest that generative AI is able\\nto generate useful conceptual models based on textual\\nproblem descriptions. Fill et al. ( 2023 ) show that ER,\\nBPMN, UML, and Heraklit models can not only be gen-erated with very high to perfect accuracy from textual\\ndescriptions, but they also explored the interpretation of\\nexisting models and received good results. In the nearfuture, we expect more research that deals with the\\ndevelopment, evaluation, and application of more\\nadvanced approaches. Speciﬁcally, we expect that learnedrepresentations of enterprise models can be transformed\\ninto more application-speciﬁc formats and can either be\\nenriched with further details or reduced to the essentialcontent.\\nAgainst this background, the concept of ‘‘digital twins’’,\\nvirtual representations of enterprise assets, may experiencenew accentuation and extensions (Dietz and Pernul 2020 ).\\nEspecially, in the public sector, where most organizational\\nassets are non-tangible in the form of deﬁned services,speciﬁed procedures, legal texts, manuals, and organiza-\\ntional charts, generative AI can play a crucial role in dig-\\nitally mirroring and managing such assets along theirlifecycles. Similar beneﬁts could be explored with physical\\nassets in Industry 4.0 environments (Lasi et al. 2014 ).\\nIn enterprise engineering, the role of generative AI\\nsystems in existing as well as newly emerging IT land-\\nscapes to support the business goals and strategies of an\\norganization gives rise to numerous opportunities (e.g., inofﬁce solutions, customer relationship management and\\nbusiness analytics applications, knowledge management\\nsystems, etc.). Generative AI systems have the potential toevolve into core enterprise applications that can either be\\nhosted on-premise or rented in the cloud. Unsanctioned use\\nbears the risk that third-party applications will be used forjob-related tasks without explicit approval or even knowl-\\nedge of the organization. This phenomenon is commonly\\nknown as shadow IT and theories and frameworks havebeen proposed to explain this phenomenon, as well as\\nrecommending actions and policies to mitigate associated\\nrisks (cf. Haag and Eckhardt 2017 ; Klotz et al. 2022 ). In\\nthe light of generative AI, however, such approaches have\\nto be revisited for their applicability and effectiveness and,if necessary, need to be extended. Nevertheless, this situ-\\nation also offers the potential to explore and design new\\napproaches for more effective API management (e.g.,\\nincluding novel app store solutions, privacy and securitymechanisms, service level deﬁnitions, pricing, and licens-\\ning models) so that generative AI solutions can be\\nsmoothly integrated into existing enterprise IT infrastruc-tures without risking any unauthorized use and conﬁden-\\ntiality breaches.\\n4.6 Human Computer Interaction and Social\\nComputing\\nSalient behavioral questions related to the interactions\\nbetween humans and generative AI systems are stillunanswered. Examples are related to the perception,\\nacceptance, adoption, and trust of systems using generative\\nAI. A study found that news was believed less if generatedby generative AI instead of humans (Longoni et al. 2022 )\\nand another found that there is a replicant effect (Jakesch\\net al. 2019 ). Such behavior is likely to be context-speciﬁc\\nand will vary by other antecedents highlighting the need for\\n\\nand another found that there is a replicant effect (Jakesch\\net al. 2019 ). Such behavior is likely to be context-speciﬁc\\nand will vary by other antecedents highlighting the need for\\na principled theoretical foundation to build successful\\ngenerative AI systems. The BISE community is wellpositioned to develop rigorous design recommendations.\\nFurther, generative AI is a key enabler for developing\\nhigh-quality interfaces for information systems based onnatural language that promote usability and accessibility.\\nFor example, such interfaces will not only make interac-\\ntions more intuitive but will also facilitate people withdisabilities. Generative AI is likely to increase the ‘‘degree\\nof intelligence’’ of user assistance systems. However, the\\ndesign of effective interactions must also be consideredwhen increasing the degree of intelligence (Maedche et al.\\n2016 ). Similarly, generative AI will undoubtedly have an\\nimpact on (computer-mediated) communication and col-laboration, such as within companies. For example, gen-\\nerative AI can create optimized content for social media,\\nemails, and reports. It can also help to improve theonboarding of new employees by creating personalized and\\ninteractive training materials. It can also enhance collabo-\\nration within teams by providing creative and intelligenceconservation agents that suggest, summarize, and synthe-\\nsize information based on the context of the team (e.g.,\\nautomated meeting notes).\\nSeveral applications and research opportunities are\\nrelated to the use of generative AI in marketing and,\\nespecially, e-commerce. It is expected that generative AIcan automate the creation of personalized marketing con-\\ntent, for instance, different sales slogans for introverts vs.\\nextroverts (Matz et al. 2017 ) or other personality traits as\\npersonalized marketing content is more effective than a\\none-content-ﬁts-all approach (Matz et al. 2023 ).\\n123S. Feuerriegel et al.: Generative AI, Bus Inf Syst Eng\\n\\nGenerative AI may automate various tasks in marketing\\nand media where content generation is needed (e.g., writing\\nnews stories, summarizing web pages for mobile devices,\\ncreating thumbnail images for news stories, translatingwritten news to audio for blind people and Braille-sup-\\nported formats for deaf people) that may be studied in\\nfuture research. Moreover, generative AI may be used inrecommender systems to boost the effectiveness of infor-\\nmation dissemination through personalization as content\\ncan be tailored better to the abilities of the recipient.\\nThe education sector is another example that will need\\nto reinvent in some parts following the availability ofconversational agents (Kasneci et al. 2023 ; Gimpel et al.\\n2023 ). At ﬁrst glance, generative AI seems to constitute an\\nunauthorized aid that jeopardizes student grading so farrelying on written examinations and term papers. However,\\nover time, examinations will adapt, and generative AI will\\nenable the development of comprehensive digital teachingassistants as well as the creation of supplemental teaching\\nmaterial such as teaching cases and recap questions. Fur-\\nther, the educator’s community will need to develop novelguidelines and governance frameworks that educate\\nlearners to rely appropriately on generative AI systems,\\nhow to verify model outputs, and to engineer promptsrather than the output itself.\\nIn addition, generative AI, speciﬁcally LLMs, can not\\nonly be used to spot harmful content on social media (e.g.,Maarouf et al. 2023 ), but it can also create realistic disin-\\nformation (e.g., fake news, propaganda) that is hard to\\ndetect by humans (Kreps et al. 2022 ; Jakesch et al. 2023 ).\\nNotwithstanding, AI-generated disinformation has previ-\\nously evolved as so-called deepfakes (Mirsky and Lee\\n2021 ), but recent advances in generative AI reduce the cost\\nof creating such disinformation and allow for unprece-\\ndented personalization. For example, generative AI can\\nautomatically adapt the tone and narrative of misinforma-tion to speciﬁc audiences that identify as extroverts or\\nintroverts, left- or right-wing partisans, or people with\\nparticular religious beliefs.\\nLastly, generative AI can facilitate—or even replace—\\ntraditional crowdsourcing where annotations or other\\nknowledge tasks are handled by a larger pool of crowdworkers, for example in social media content annotation\\n(Gilardi et al. 2023 ) or market research on willingness-to-\\npay for services and products (Brand et al. 2023 ). In gen-\\neral, we expect that generative AI will automate many\\nother tasks being a zero-shot / few-shot learner. However,\\nthis may also unfold negative implications: Users maycontribute less to question-answering forums such as\\nstackoverﬂow.com, which thus may reduce human-based\\nknowledge creation impairing the future performance ofAI-based question-answering systems that rely upon\\nhuman question-answering content for training. In a similarvein, the widespread availability of generative AI systems\\nmay also propel research around virtual assistants. Previ-\\nously, research made use of ‘‘Wizard-of-Oz’’ experiments\\n(Diederich et al. 2020 ), while future research may build\\nupon generative AI systems instead.\\nCrucially, automated content generation using genera-\\ntive AI is a new phenomenon, but automation in generaland how people are affected by automated systems has\\nbeen studied by scholars for decades. Thus, existing theo-\\nries on the interplay of humans with automated systems\\nmay be contextualized to generative AI systems.\\n4.7 Information Systems Engineering and Technology\\nGenerative AI offers many engineering- and technology-\\noriented research opportunities for the Information Systems\\ncommunity as a design-oriented discipline. This includes\\ndeveloping and evaluating design principles for generativeAI systems and applications to extend the limiting\\nboundaries of this technology (cf. Section 3). As such,')]"
            ]
          },
          "metadata": {},
          "execution_count": 39
        }
      ]
    },
    {
      "cell_type": "markdown",
      "source": [
        "#### Setup a Template"
      ],
      "metadata": {
        "id": "PgSi5CoBDvs3"
      }
    },
    {
      "cell_type": "code",
      "source": [
        "template = \"\"\"Use the following pieces of context to answer the question at the end. If you don't know the answer, just mention that you don't know and do no try to make up an answer. Always say \"Thanks for asking\" at the end of the answer.\n",
        "{context}\n",
        "Question: {question}\n",
        "Answer:\"\"\"\n",
        "\n",
        "QA_CHAIN_PROMPT = PromptTemplate.from_template(template)\n",
        "qa_chain = RetrievalQA.from_chain_type(\n",
        "    model,\n",
        "    retriever=vector_index,\n",
        "    return_source_documents=True,\n",
        "    chain_type_kwargs={\"prompt\": QA_CHAIN_PROMPT}\n",
        ")"
      ],
      "metadata": {
        "id": "MC3W6CozDtdO"
      },
      "execution_count": 43,
      "outputs": []
    },
    {
      "cell_type": "markdown",
      "source": [
        "Asking a question where the context is present in the PDF file"
      ],
      "metadata": {
        "id": "Gtu5cSc2FN9c"
      }
    },
    {
      "cell_type": "code",
      "source": [
        "question = \"What is zero-shot learning?\"\n",
        "result = qa_chain({\"query\": question})\n",
        "Markdown(result[\"result\"])"
      ],
      "metadata": {
        "colab": {
          "base_uri": "https://localhost:8080/",
          "height": 69
        },
        "id": "2gnV_8mfEzlE",
        "outputId": "42d0961f-8740-4514-dc98-8a0cd065ee40"
      },
      "execution_count": 44,
      "outputs": [
        {
          "output_type": "execute_result",
          "data": {
            "text/plain": [
              "<IPython.core.display.Markdown object>"
            ],
            "text/markdown": "Zero-shot learning is when a machine is taught how to learn a task from data without ever needing to access the data itself. \n\nThanks for asking. \n"
          },
          "metadata": {},
          "execution_count": 44
        }
      ]
    },
    {
      "cell_type": "markdown",
      "source": [
        "Asking a question where the context is **NOT** present in the PDF file\n"
      ],
      "metadata": {
        "id": "SUBMssA5FUB7"
      }
    },
    {
      "cell_type": "code",
      "source": [
        "question = \"What is SVM?\"\n",
        "result = qa_chain({\"query\": question})\n",
        "Markdown(result[\"result\"])"
      ],
      "metadata": {
        "colab": {
          "base_uri": "https://localhost:8080/",
          "height": 69
        },
        "id": "LRMqOcqYFLc1",
        "outputId": "33aaf6df-6a20-4656-cada-ed42ea2c9f81"
      },
      "execution_count": 45,
      "outputs": [
        {
          "output_type": "execute_result",
          "data": {
            "text/plain": [
              "<IPython.core.display.Markdown object>"
            ],
            "text/markdown": "The provided text does not contain information about SVM. \n\nThanks for asking. \n"
          },
          "metadata": {},
          "execution_count": 45
        }
      ]
    }
  ]
}